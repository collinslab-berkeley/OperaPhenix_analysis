{
 "cells": [
  {
   "cell_type": "code",
   "execution_count": 1,
   "id": "c34361a6-9680-426d-be91-646143aa86f5",
   "metadata": {
    "tags": []
   },
   "outputs": [],
   "source": [
    "import numpy as np\n",
    "import matplotlib.pyplot as plt\n",
    "import pandas as pd\n",
    "from scipy import stats\n",
    "from tqdm import tqdm"
   ]
  },
  {
   "cell_type": "code",
   "execution_count": 2,
   "id": "0e25caed-5f8a-458f-b311-60e7613c1592",
   "metadata": {
    "tags": []
   },
   "outputs": [],
   "source": [
    "def calculate_percent_positive(df, channel, threshold=3):\n",
    "    # initialize variables\n",
    "    positive = {}\n",
    "    positive_mean = {}\n",
    "    positive_std = {}\n",
    "\n",
    "    x = np.linspace(300,1500,100)\n",
    "    \n",
    "    # iterate through each siRNA\n",
    "    for target in tqdm(df['siRNA target'].unique()):\n",
    "        # initialize variables\n",
    "        positive[target] = {}\n",
    "        positive_mean[target] = {}\n",
    "        positive_std[target] = {}\n",
    "        count = 0\n",
    "        target_df = df[df['siRNA target']==target]\n",
    "        fig = plt.figure(figsize=(20,15))\n",
    "        \n",
    "        # iterate through each replicate\n",
    "        for replicate in sorted(target_df['Replicate'].unique()):\n",
    "            rep_df = target_df[target_df['Replicate']==replicate]\n",
    "\n",
    "            # iterate through each field of each replicate\n",
    "            for field in range(1,5):\n",
    "                field_df = rep_df[rep_df['Field']==field]\n",
    "                \n",
    "                # fit background distribution\n",
    "                values = field_df[channel]\n",
    "                median = np.median(values)\n",
    "                reflected = values[values<median]\n",
    "                reflected = np.hstack([2*median-reflected, reflected])\n",
    "                loc,scale = stats.norm.fit(reflected)\n",
    "                \n",
    "                bg = values[values<(loc+scale*2)]\n",
    "                m,s = stats.norm.fit(bg)\n",
    "                \n",
    "                # calculate GFP positive\n",
    "                positive[target]['%i.%i' % (replicate, field)] = np.count_nonzero(values>(m+threshold*s))/np.count_nonzero(values)\n",
    "\n",
    "                # plot distributions and save to file\n",
    "                count += 1\n",
    "                ax = fig.add_subplot(3,4,count)\n",
    "                ax.hist(values, bins=x, fc='silver')\n",
    "                ax.set_title('Replicate %i, Field %i' % (replicate,field), fontsize=18)\n",
    "                ax2 = ax.twinx()\n",
    "                ax2.set_yticks([])\n",
    "                ax2.plot(x,stats.norm.pdf(x,m,s),c='r')\n",
    "                ax.axvline(m+threshold*s,c='k')\n",
    "                bottom,top = ax2.get_ylim()\n",
    "                ax2.set_ylim(0,top)\n",
    "                fig.supylabel('# of cells', fontsize=18)\n",
    "                fig.supxlabel(channel, fontsize=18)\n",
    "                fig.tight_layout()\n",
    "                fluor = channel.split(' ')[0]\n",
    "                fig.savefig('%s_%s.png' % (fluor,target))\n",
    "                plt.close()\n",
    "                \n",
    "                \n",
    "            # calculate means and standard deviations\n",
    "            positive_mean[target][replicate] = np.mean([positive[target]['%i.%i' % (replicate,x)] for x in range(1,5)])\n",
    "            positive_std[target][replicate] = np.std([positive[target]['%i.%i' % (replicate,x)] for x in range(1,5)])\n",
    "            \n",
    "\n",
    "    return positive_mean, positive_std"
   ]
  },
  {
   "cell_type": "code",
   "execution_count": null,
   "id": "06a16744-03b9-45d6-87a5-34353ad93ee8",
   "metadata": {
    "tags": []
   },
   "outputs": [],
   "source": [
    "# read in data\n",
    "rep1 = pd.read_csv('2023.8.4 S1P1R1 objects.csv')\n",
    "rep2 = pd.read_csv('2023.8.4 S1P1R2 objects.csv')\n",
    "rep3 = pd.read_csv('2023.8.4 S1P1R3 objects.csv')\n",
    "\n",
    "data = pd.concat([rep1,rep2,rep3]).reset_index(drop=True)"
   ]
  },
  {
   "cell_type": "code",
   "execution_count": 10,
   "id": "dbef6964-e9ac-4b91-aef3-6b16497209e4",
   "metadata": {
    "tags": []
   },
   "outputs": [],
   "source": [
    "# calculate % GFP positive\n",
    "\n",
    "GFP_mean, GFP_std = calculate_percent_positive(data,'GFP intensity')\n",
    "\n",
    "GFP_df = pd.merge(pd.DataFrame.from_records([(level1, level2, leaf)\n",
    "                                             for level1, level2_dict in GFP_mean.items()\n",
    "                                             for level2, leaf in level2_dict.items()],\n",
    "                                            columns=['target', 'replicate', 'GFP_mean']),\n",
    "                  pd.DataFrame.from_records([(level1, level2, leaf)\n",
    "                                             for level1, level2_dict in GFP_std.items()\n",
    "                                             for level2, leaf in level2_dict.items()],\n",
    "                                            columns=['target', 'replicate', 'GFP_std']))\n"
   ]
  },
  {
   "cell_type": "code",
   "execution_count": 11,
   "id": "d09b73b3-9b1c-4e3e-b87a-1abc0b9b7dc1",
   "metadata": {
    "tags": []
   },
   "outputs": [],
   "source": [
    "# calculate % mCherry positive\n",
    "\n",
    "mCherry_mean, mCherry_std = calculate_percent_positive(data,'mCherry intensity')\n",
    "\n",
    "mCherry_df = pd.merge(pd.DataFrame.from_records([(level1, level2, leaf)\n",
    "                                             for level1, level2_dict in mCherry_mean.items()\n",
    "                                             for level2, leaf in level2_dict.items()],\n",
    "                                            columns=['target', 'replicate', 'mCherry_mean']),\n",
    "                  pd.DataFrame.from_records([(level1, level2, leaf)\n",
    "                                             for level1, level2_dict in mCherry_std.items()\n",
    "                                             for level2, leaf in level2_dict.items()],\n",
    "                                            columns=['target', 'replicate', 'mCherry_std']))"
   ]
  },
  {
   "cell_type": "code",
   "execution_count": 12,
   "id": "c8515b8c-281c-4390-8185-cf8b67d2434f",
   "metadata": {
    "tags": []
   },
   "outputs": [],
   "source": [
    "# merge dataframes and export to file\n",
    "\n",
    "out_df = pd.merge(GFP_df,mCherry_df)\n",
    "out_df.to_csv('out.csv',index=False)"
   ]
  },
  {
   "cell_type": "code",
   "execution_count": null,
   "id": "ec4bfc8c-9b39-410d-a804-c2e5e1ebfbe1",
   "metadata": {},
   "outputs": [],
   "source": []
  }
 ],
 "metadata": {
  "kernelspec": {
   "display_name": "Python 3 (ipykernel)",
   "language": "python",
   "name": "python3"
  },
  "language_info": {
   "codemirror_mode": {
    "name": "ipython",
    "version": 3
   },
   "file_extension": ".py",
   "mimetype": "text/x-python",
   "name": "python",
   "nbconvert_exporter": "python",
   "pygments_lexer": "ipython3",
   "version": "3.10.12"
  }
 },
 "nbformat": 4,
 "nbformat_minor": 5
}
